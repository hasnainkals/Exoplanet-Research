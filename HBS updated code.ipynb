{
 "cells": [
  {
   "cell_type": "markdown",
   "id": "d5b274f8",
   "metadata": {},
   "source": [
    "# Habitable Zone Analysis: Updated Parameters for M-Dwarf Stars"
   ]
  },
  {
   "cell_type": "code",
   "execution_count": 2,
   "id": "df69c6b8",
   "metadata": {},
   "outputs": [
    {
     "name": "stdout",
     "output_type": "stream",
     "text": [
      "Teegarden's Star Luminosity: 0.0010 L_sun\n",
      "Inner Flux Boundary: 1.1827 S_earth\n",
      "Outer Flux Boundary: 0.1911 S_earth\n",
      "Teegarden's Star HZ Range: 0.0298 AU to 0.0741 AU\n",
      "Equilibrium Temperature for Teegarden's Star b: 289.78 K\n",
      "Teegarden's Star HZ Range: 0.03 AU to 0.07 AU\n",
      "Solar System HZ Range: 0.95 AU to 1.37 AU\n"
     ]
    }
   ],
   "source": [
    "# -*- coding: utf-8 -*-\n",
    "\"\"\"\n",
    "This code is updated based on recent observations of Teegarden's Star\n",
    "and other similar M-dwarf systems.\n",
    "\"\"\"\n",
    "\n",
    "# Import necessary libraries\n",
    "import numpy as np\n",
    "\n",
    "# Constants\n",
    "sigma = 5.67e-8  # Stefan-Boltzmann constant in W/m^2/K^4\n",
    "solar_radius = 6.955e8  # Solar radius in meters (m)\n",
    "solar_luminosity = 3.828e26  # Solar luminosity in watts (W)\n",
    "AU_to_meters = 1.496e11  # Conversion from AU to meters (m)\n",
    "\n",
    "# Update: Stellar parameters for Teegarden's Star\n",
    "R_star = 0.128 * solar_radius  # Stellar radius in meters for Teegarden's Star\n",
    "T_star = 2904  # Stellar effective temperature in Kelvin (K) for Teegarden's Star\n",
    "\n",
    "# Step 1: Calculate stellar luminosity (L_star) in watts (W)\n",
    "L_star = 4 * np.pi * R_star**2 * sigma * T_star**4\n",
    "L_star_in_solar_units = L_star / solar_luminosity  # Convert to solar luminosities\n",
    "\n",
    "print(f\"Teegarden's Star Luminosity: {L_star_in_solar_units:.4f} L_sun\")\n",
    "\n",
    "# Step 2: Calculate Inner and Outer Boundaries of the Habitable Zone\n",
    "def habitable_zone_flux(T_eff):\n",
    "    # Inner boundary of the habitable zone (runaway greenhouse)\n",
    "    S_inner = 1.776 - 2.136e-4 * T_eff + 3.206e-9 * T_eff**2\n",
    "    # Outer boundary of the habitable zone (maximum greenhouse)\n",
    "    S_outer = 0.356 - 6.171e-5 * T_eff + 1.698e-9 * T_eff**2\n",
    "    return S_inner, S_outer\n",
    "\n",
    "# Calculate flux boundaries for Teegarden's Star\n",
    "S_inner, S_outer = habitable_zone_flux(T_star)\n",
    "\n",
    "print(f\"Inner Flux Boundary: {S_inner:.4f} S_earth\")\n",
    "print(f\"Outer Flux Boundary: {S_outer:.4f} S_earth\")\n",
    "\n",
    "# Step 3: Calculate the Distance to the Inner and Outer Boundaries of the Habitable Zone\n",
    "def habitable_zone_distance(L_star, S_boundary):\n",
    "    # Distance in AU (astronomical units)\n",
    "    return np.sqrt(L_star / S_boundary)\n",
    "\n",
    "# Calculate distances for inner and outer boundaries\n",
    "R_inner = habitable_zone_distance(L_star_in_solar_units, S_inner)  # in AU\n",
    "R_outer = habitable_zone_distance(L_star_in_solar_units, S_outer)  # in AU\n",
    "\n",
    "print(f\"Teegarden's Star HZ Range: {R_inner:.4f} AU to {R_outer:.4f} AU\")\n",
    "\n",
    "# Step 4: Calculate Equilibrium Temperature of the Planet\n",
    "# Planetary parameters (for Teegarden's Star b)\n",
    "albedo = 0.3  # Assumed albedo of the planet (dimensionless)\n",
    "distance = 0.025  # Orbital distance from the star in AU for Teegarden's Star b\n",
    "\n",
    "# Function to calculate equilibrium temperature (assuming no atmosphere)\n",
    "def equilibrium_temperature(L_star, distance, albedo):\n",
    "    # Convert distance from AU to meters\n",
    "    d_meters = distance * AU_to_meters\n",
    "    # Calculate equilibrium temperature\n",
    "    T_eq = T_star * np.sqrt(R_star / (2 * d_meters)) * (1 - albedo)**0.25\n",
    "    return T_eq\n",
    "\n",
    "# Calculate equilibrium temperature for Teegarden's Star b\n",
    "T_eq = equilibrium_temperature(L_star_in_solar_units, distance, albedo)\n",
    "\n",
    "print(f\"Equilibrium Temperature for Teegarden's Star b: {T_eq:.2f} K\")\n",
    "\n",
    "# Step 5: Compare to Solar System\n",
    "# Solar system HZ boundaries\n",
    "solar_inner_HZ = 0.95  # in AU\n",
    "solar_outer_HZ = 1.37  # in AU\n",
    "\n",
    "# Comparison to Teegarden's Star HZ\n",
    "print(f\"Teegarden's Star HZ Range: {R_inner:.2f} AU to {R_outer:.2f} AU\")\n",
    "print(f\"Solar System HZ Range: {solar_inner_HZ} AU to {solar_outer_HZ} AU\")\n"
   ]
  },
  {
   "cell_type": "markdown",
   "id": "29ff93c2",
   "metadata": {},
   "source": [
    "Previous Results\n",
    "Stellar Luminosity: 0.0015 L_sun\n",
    "Inner Flux Boundary: 1.1559 S_earth\n",
    "Outer Flux Boundary: 0.1840 S_earth\n",
    "Inner HZ Boundary: 0.0362 AU\n",
    "Outer HZ Boundary: 0.0906 AU\n",
    "Equilibrium Temperature: 227.93 K\n",
    "Proxima Centauri HZ Range: 0.04 AU to 0.09 AU\n",
    "Solar System HZ Range: 0.95 AU to 1.37 AU"
   ]
  },
  {
   "cell_type": "markdown",
   "id": "7d6c7efe",
   "metadata": {},
   "source": [
    "References\n",
    "1.Zechmeister et al., \"The CARMENES search for exoplanets around M dwarfs: Two temperate Earth-mass planet candidates around Teegarden's Star,\" Astronomy & Astrophysics, 2019.\n",
    "2.Gillon et al., \"Seven temperate terrestrial planets around the nearby ultracool dwarf star TRAPPIST-1,\" Nature, 2017.\n",
    "3.Dreizler et al., \"Reddots: A temperate 1.5 Earth-mass planet candidate in a compact multi-terrestrial planet system around GJ 1061,\" Monthly Notices of the Royal Astronomical Society, 2020.\n"
   ]
  }
 ],
 "metadata": {
  "kernelspec": {
   "display_name": "Python 3 (ipykernel)",
   "language": "python",
   "name": "python3"
  },
  "language_info": {
   "codemirror_mode": {
    "name": "ipython",
    "version": 3
   },
   "file_extension": ".py",
   "mimetype": "text/x-python",
   "name": "python",
   "nbconvert_exporter": "python",
   "pygments_lexer": "ipython3",
   "version": "3.11.3"
  }
 },
 "nbformat": 4,
 "nbformat_minor": 5
}
